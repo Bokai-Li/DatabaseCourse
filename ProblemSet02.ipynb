{
 "cells": [
  {
   "cell_type": "markdown",
   "metadata": {
    "course": "Comp521F19",
    "problemset": 2,
    "section": "header"
   },
   "source": [
    "<div style=\"text-align: center;\">\n",
    "<h1>The University of North Carolina at Chapel Hill</h1>\n",
    "<h1>Comp 521 Files and Databases - Fall 2020</h1>\n",
    "<h1 style=\"font-size: 250%;\">Problem Set #2</h1>\n",
    "<h1 style=\"font-size: 200%;\">Version 1.1</h1>\n",
    "<h1>Issued Thursday 9/3/2020; Due Thursday 9/17/2020</h1>\n",
    "</div>\n",
    "\n",
    "**Homework Information:** The answer cells in this notebook contain metadata that enable it to be automatically parsed. Thus, you must enter your answers *only* into the cells provided. Do not delete any answer cell and/or add a new one to replace it. If you do so by accident, download a new copy of the problem set's notebook and transfer your answers into it. You can introduce new 'coding' cells in an effort to test approaches to problems, however, these introduced cells will not be considered when grading.\n",
    "\n",
    "Finally, some of the problems are probably too long to be done the night before the due date, so plan accordingly. Late problem sets will be accepted, but your lowest problem-set grade will be dropped. Feel free to get help from others, but the work you submit in should be your own."
   ]
  },
  {
   "cell_type": "code",
   "execution_count": 3,
   "metadata": {
    "section": "signature"
   },
   "outputs": [],
   "source": [
    "# Do not make any edits in this cell!\n",
    "class Student:\n",
    "    first = \"Bokai\"\n",
    "    last = \"Li\"\n",
    "    onyen = \"bokai247\"\n",
    "    pid = \"730170176\""
   ]
  },
  {
   "cell_type": "markdown",
   "metadata": {
    "section": "setup"
   },
   "source": [
    "In the following questions you are asked to write a single SQL query to find the requested results from a database derived from the demographic, COVID-19, and hospital data used in Problem set #1. The database has the following tables:\n",
    "<table style=\"border:none;\"><tbody>\n",
    "        <tr style=\"border:none;\">\n",
    "            <td style=\"padding:0px 20px;border:none;\" colspan=\"2\">\n",
    "            <table style=\"border-collapse: collapse; border: 1px solid black;\"><tbody>\n",
    "            <tr style=\"border-collapse: collapse; border: 1px solid black;\">\n",
    "                <th colspan=\"7\" style=\"text-align:center; background-color: skyblue;\">Demograpics</th></tr>\n",
    "            <tr style=\"border-collapse: collapse; border: 1px solid black;\">\n",
    "                <td style=\"border-collapse: collapse; border: 1px solid black;\"><u>fips</u></td>\n",
    "                <td style=\"border-collapse: collapse; border: 1px solid black;\"><u>year</u></td>\n",
    "                <td style=\"border-collapse: collapse; border: 1px solid black;\"><u>race</u></td>\n",
    "                <td style=\"border-collapse: collapse; border: 1px solid black;\"><u>sex</u></td>\n",
    "                <td style=\"border-collapse: collapse; border: 1px solid black;\"><u>agelo</u></td>\n",
    "                <td style=\"border-collapse: collapse; border: 1px solid black;\">agehi</td>\n",
    "                <td style=\"border-collapse: collapse; border: 1px solid black;\">count</td>\n",
    "            </tr>\n",
    "            </tbody></table>\n",
    "            </td>\n",
    "            <td style=\"padding:0px 20px;border:none;\" colspan=\"2\">\n",
    "            <table style=\"border-collapse: collapse; border: 1px solid black;\"><tbody>\n",
    "            <tr style=\"border-collapse: collapse; border: 1px solid black;\">\n",
    "                <th colspan=\"5\" style=\"text-align:center; background-color: skyblue;\">County</th></tr>\n",
    "            <tr style=\"border-collapse: collapse; border: 1px solid black;\">\n",
    "                <td style=\"border-collapse: collapse; border: 1px solid black;\"><u>fips</u></td>\n",
    "                <td style=\"border-collapse: collapse; border: 1px solid black;\">name</td>\n",
    "                <td style=\"border-collapse: collapse; border: 1px solid black;\">region</td>\n",
    "                <td style=\"border-collapse: collapse; border: 1px solid black;\">cog</td>\n",
    "                <td style=\"border-collapse: collapse; border: 1px solid black;\">msa</td>\n",
    "            </tr>\n",
    "            </tbody></table>\n",
    "            </td>\n",
    "            <td style=\"padding:0px 20px;border:none;\" colspan=\"2\">\n",
    "            <table style=\"border-collapse: collapse; border: 1px solid black;\"><tbody>\n",
    "            <tr style=\"border-collapse: collapse; border: 1px solid black;\">\n",
    "                <th colspan=\"4\" style=\"text-align:center; background-color: skyblue;\">Covid19</th></tr>\n",
    "            <tr style=\"border-collapse: collapse; border: 1px solid black;\">\n",
    "                <td style=\"border-collapse: collapse; border: 1px solid black;\"><u>fips</u></td>\n",
    "                <td style=\"border-collapse: collapse; border: 1px solid black;\"><u>date</u></td>\n",
    "                <td style=\"border-collapse: collapse; border: 1px solid black;\">cases</td>\n",
    "                <td style=\"border-collapse: collapse; border: 1px solid black;\">death</td>\n",
    "            </tr>\n",
    "            </tbody></table>\n",
    "            </td>\n",
    "        </tr>\n",
    "        <tr style=\"border:none;\">\n",
    "            <td colspan=\"6\" style=\"border:none;\">&nbsp;</td>\n",
    "        </tr>\n",
    "        <tr style=\"border:none;\">\n",
    "            <td style=\"padding:0px 20px;border:none;\"  colspan=\"3\">\n",
    "            <table style=\"border-collapse: collapse; border: 1px solid black;\"><tbody>\n",
    "            <tr style=\"border-collapse: collapse; border: 1px solid black;\">\n",
    "                <th colspan=\"8\" style=\"text-align:center; background-color: skyblue;\">Hospital</th></tr>\n",
    "            <tr style=\"border-collapse: collapse; border: 1px solid black;\">\n",
    "                <td style=\"border-collapse: collapse; border: 1px solid black;\"><u>hid</u></td>\n",
    "                <td style=\"border-collapse: collapse; border: 1px solid black;\">name</td>\n",
    "                <td style=\"border-collapse: collapse; border: 1px solid black;\">city</td>\n",
    "                <td style=\"border-collapse: collapse; border: 1px solid black;\">beds</td>\n",
    "                <td style=\"border-collapse: collapse; border: 1px solid black;\">icu</td>\n",
    "                <td style=\"border-collapse: collapse; border: 1px solid black;\">discharges</td>\n",
    "                <td style=\"border-collapse: collapse; border: 1px solid black;\">patientdays</td>\n",
    "                <td style=\"border-collapse: collapse; border: 1px solid black;\">revenue</td>\n",
    "            </tr>\n",
    "            </tbody></table>\n",
    "            </td>\n",
    "            <td style=\"padding:0px 20px;border:none;\" colspan=\"3\">\n",
    "            <table style=\"border-collapse: collapse; border: 1px solid black;\"><tbody>\n",
    "            <tr style=\"border-collapse: collapse; border: 1px solid black;\">\n",
    "                <th colspan=\"3\" style=\"text-align:center; background-color: skyblue;\">HospitalCounty</th></tr>\n",
    "            <tr style=\"border-collapse: collapse; border: 1px solid black;\">\n",
    "                <td style=\"border-collapse: collapse; border: 1px solid black;\"><u>hid</u></td>\n",
    "                <td style=\"border-collapse: collapse; border: 1px solid black;\"><u>fips</u></td>\n",
    "                <td style=\"border-collapse: collapse; border: 1px solid black;\">incounty</td>\n",
    "            </tr>\n",
    "            </tbody></table>\n",
    "            </td>\n",
    "        </tr>\n",
    "        </tbody></table>\n",
    "\n",
    "An <a href=\"http://csbio.unc.edu/mcmillan/Media/NCCOVID19.db\" download>example database</a> and the interactive SQL parser (<a href=\"http://csbio.unc.edu/mcmillan/Media/iSQL.py\" download>iSQL.py</a>) are provided for experimentation. You will need to copy iSQL.py into the same Jupyter Hub directory as the notebook for this problem set and invoke it as follows:\n",
    "\n",
    "    import iSQL\n",
    "    \n",
    "    query = iSQL.parser(\"NCCOVID19.db\")\n",
    "    \n",
    "\n",
    "Make sure that you copy your SQL query into the cell provided for your answer. Only that cell will be graded.\n",
    "***Warning***, if your query appears to give the correct result for the given database, that does not mean that it is correct. A correct query must give the requested result for *any* and *all* valid instances of the given database schema."
   ]
  },
  {
   "cell_type": "code",
   "execution_count": 4,
   "metadata": {},
   "outputs": [
    {
     "data": {
      "application/vnd.jupyter.widget-view+json": {
       "model_id": "ef8ba7809ada42a0b2b454fe240e14c6",
       "version_major": 2,
       "version_minor": 0
      },
      "text/plain": [
       "VBox(children=(Textarea(value='', description='SQL:', layout=Layout(height='100px', width='600px')), HBox(chil…"
      ]
     },
     "metadata": {},
     "output_type": "display_data"
    }
   ],
   "source": [
    "import iSQL\n",
    "\n",
    "query = iSQL.parser(\"NCCOVID19.db\")"
   ]
  },
  {
   "cell_type": "markdown",
   "metadata": {
    "case": 0,
    "key": "Bradshaw",
    "number": 1,
    "section": "problem"
   },
   "source": [
    "---\n",
    "**Problem 1:** Generate a table with the name, population, and region of all North Carolina counties in 2020."
   ]
  },
  {
   "cell_type": "raw",
   "metadata": {
    "number": 1,
    "section": "answer"
   },
   "source": [
    "SELECT C.name, SUM(D.count) AS population, C.region \n",
    "FROM County C, Demographics D\n",
    "WHERE C.fips = D.fips AND D.year = 2020\n",
    "GROUP BY C.name"
   ]
  },
  {
   "cell_type": "markdown",
   "metadata": {
    "case": 1,
    "key": "Bradshaw",
    "number": 2,
    "section": "problem"
   },
   "source": [
    "---\n",
    "**Problem 2:** Generate a table with the name and number of hospital beds found in each North Carolina county."
   ]
  },
  {
   "cell_type": "raw",
   "metadata": {
    "number": 2,
    "section": "answer"
   },
   "source": [
    "SELECT C.name, IFNULL(SUM(H.beds),0) AS 'hospital beds'\n",
    "FROM HospitalCounty HC, County C LEFT JOIN Hospital H\n",
    "ON H.hid = HC.hid and HC.fips = C.fips\n",
    "GROUP BY C.name"
   ]
  },
  {
   "cell_type": "markdown",
   "metadata": {
    "case": 4,
    "key": "Bradshaw",
    "number": 3,
    "section": "problem"
   },
   "source": [
    "---\n",
    "**Problem 3:** . Generate a table with each North Carolina County and the date of its first confirmed COVID-19 case."
   ]
  },
  {
   "cell_type": "raw",
   "metadata": {
    "number": 3,
    "section": "answer"
   },
   "source": [
    "SELECT C.name, MIN(CO.date) AS 'first confirmed date'\n",
    "FROM County C, Covid19 CO\n",
    "WHERE C.fips=CO.fips\n",
    "GROUP BY C.name"
   ]
  },
  {
   "cell_type": "markdown",
   "metadata": {
    "case": 5,
    "key": "Bradshaw",
    "number": 4,
    "section": "problem"
   },
   "source": [
    "---\n",
    "**Problem 4:** Generate a list of all Hospital names and North Carolina Counties in which there is more than one hospital. "
   ]
  },
  {
   "cell_type": "raw",
   "metadata": {
    "number": 4,
    "section": "answer"
   },
   "source": [
    "SELECT H.name AS 'hospital name', C.name AS 'county'\n",
    "FROM HospitalCounty HC, County C, Hospital H, (\n",
    "    SELECT C.name, COUNT(*) AS 'hospital'\n",
    "    FROM HospitalCounty HC, County C, Hospital H\n",
    "    WHERE H.hid = HC.hid and HC.fips = C.fips\n",
    "    GROUP BY C.name) AS P\n",
    "WHERE H.hid = HC.hid and HC.fips = C.fips and P.name = C.name and hospital>1 and HC.incounty=1"
   ]
  },
  {
   "cell_type": "markdown",
   "metadata": {
    "case": 7,
    "key": "Bradshaw",
    "number": 5,
    "section": "problem"
   },
   "source": [
    "---\n",
    "**Problem 5:** Generate a sorted list, from high to low, of North Carolina county ratios of residents in the age range of 25 to 45 to their total population in 2020. The output should include the county's name, 25-45 population, and ratio."
   ]
  },
  {
   "cell_type": "raw",
   "metadata": {
    "number": 5,
    "section": "answer"
   },
   "source": [
    "SELECT C.name,  SUM(D.count) AS '25-45 population', (SUM(D.count)*1.0)/pop AS ratio\n",
    "FROM County C, Demographics D, (\n",
    "    SELECT D2.fips, SUM(D2.count) AS pop \n",
    "    FROM Demographics D2 WHERE D2.year=2020 GROUP BY D2.fips) AS P\n",
    "WHERE C.fips = D.fips AND D.year = 2020 AND D.fips = P.fips AND D.agelo >= 25 AND D.agehi <= 45\n",
    "GROUP BY C.name\n",
    "ORDER by ratio desc"
   ]
  },
  {
   "cell_type": "markdown",
   "metadata": {
    "case": 9,
    "key": "Bradshaw",
    "number": 6,
    "section": "problem"
   },
   "source": [
    "---\n",
    "**Problem 6:** Generate a sorted list, from high to low, of the largest increase in North Carolina county ratios of residents in the age range of 25 to 45 to their total population in 2020 when compared to 2000. The output should include the county's name, 25-45 population ratio in 2020, and delta of ratio change."
   ]
  },
  {
   "cell_type": "raw",
   "metadata": {
    "number": 6,
    "section": "answer"
   },
   "source": [
    "SELECT name2020 as 'county name', ratio2020 as '25-45 population ratio', ratio2020-ratio2000 as delta\n",
    "FROM (\n",
    "    SELECT C.name as name2020, (SUM(D.count)*1.0)/pop AS ratio2020\n",
    "    FROM County C, Demographics D, (\n",
    "        SELECT D2.fips, SUM(D2.count) AS pop \n",
    "        FROM Demographics D2 WHERE D2.year=2020 GROUP BY D2.fips) AS P\n",
    "    WHERE C.fips = D.fips AND D.year = 2020 AND D.fips = P.fips AND D.agelo >= 25 AND D.agehi <= 45\n",
    "    GROUP BY C.name),\n",
    "    (SELECT C.name as name2000, (SUM(D.count)*1.0)/pop AS ratio2000\n",
    "    FROM County C, Demographics D, (\n",
    "        SELECT D2.fips, SUM(D2.count) AS pop \n",
    "        FROM Demographics D2 WHERE D2.year=2000 GROUP BY D2.fips) AS P\n",
    "    WHERE C.fips = D.fips AND D.year = 2000 AND D.fips = P.fips AND D.agelo >= 25 AND D.agehi <= 45\n",
    "    GROUP BY C.name)\n",
    "WHERE name2020 = name2000\n",
    "ORDER by delta desc"
   ]
  },
  {
   "cell_type": "markdown",
   "metadata": {
    "case": 10,
    "key": "Bradshaw",
    "number": 7,
    "section": "problem"
   },
   "source": [
    "---\n",
    "**Problem 7:** For each county, find the single day with the most COVID-19 deaths reported. Generate a list of each county, date, and the number of deaths."
   ]
  },
  {
   "cell_type": "raw",
   "metadata": {
    "number": 7,
    "section": "answer"
   },
   "source": [
    "SELECT C.name, V.date, Max(V.deaths)\n",
    "FROM County C, Covid19 V\n",
    "WHERE C.fips=V.fips\n",
    "group by C.name"
   ]
  },
  {
   "cell_type": "markdown",
   "metadata": {
    "case": 11,
    "key": "Bradshaw",
    "number": 8,
    "section": "problem"
   },
   "source": [
    "---\n",
    "**Problem 8:** On what single day were the most North Carolina COVID-19 deaths reported in the given reporting interval? For that day generate a list of each county, date, and the number of deaths. Include all counties, even those that did not report a death on the given date."
   ]
  },
  {
   "cell_type": "raw",
   "metadata": {
    "number": 8,
    "section": "answer"
   },
   "source": [
    "SELECT C.name as county, IFNULL(maxDate, maxDate2) as 'date', IFNULL(death,0) as deaths\n",
    "    FROM \n",
    "        (SELECT date as maxDate2 , max(deathbydate)\n",
    "        FROM( \n",
    "            SELECT V.date, SUM(V.deaths) as deathbydate\n",
    "            FROM Covid19 V\n",
    "            Group by V.date)),\n",
    "    County C LEFT JOIN\n",
    "    (\n",
    "    SELECT C.name as county, maxDate, CV.deaths as death\n",
    "    FROM Covid19 CV, County C,\n",
    "        (SELECT date as maxDate , max(deathbydate)\n",
    "        FROM( \n",
    "            SELECT V.date, SUM(V.deaths) as deathbydate\n",
    "            FROM Covid19 V\n",
    "            Group by V.date))\n",
    "    WHERE C.fips = CV.fips AND CV.date = maxDate)\n",
    "ON C.name = county"
   ]
  },
  {
   "cell_type": "markdown",
   "metadata": {
    "case": 12,
    "key": "Bradshaw",
    "number": 9,
    "section": "problem"
   },
   "source": [
    "---\n",
    "**Problem 9:** Generate a list of North Carolina counties where white females of voting age (&ge; 18 years old) are the largest voting age demographic in *2020*. *In your report, provide multiple rows for each county of voting age residents broken down by race and sex. You should only include rows for countys in which the largest voting demographic is white and female.*"
   ]
  },
  {
   "cell_type": "raw",
   "metadata": {
    "number": 9,
    "section": "answer"
   },
   "source": [
    "select C.name, D.sex, D.race, sum(D.count) as population\n",
    "from County C, Demographics D, (\n",
    "    select P2.fips\n",
    "    from(\n",
    "        select P.fips, P.maxRace, P.maxSex, max(P.count) from\n",
    "            (select D.fips as fips, D.sex as maxSex, D.race as maxRace, sum(D.count) as count from Demographics D\n",
    "            where D.agelo >=18 and year = 2020\n",
    "            group by D.fips, D.sex, D.race) as P\n",
    "        group by P.fips) as P2\n",
    "    where P2.maxRace = 'white' and P2.maxSex='female' ) as P3\n",
    "where D.agelo >=18 and P3.fips=C.fips and D.fips = C.fips and D.year = 2020\n",
    "group by D.fips, D.race, D.sex\n"
   ]
  },
  {
   "cell_type": "markdown",
   "metadata": {
    "number": 10,
    "section": "problem"
   },
   "source": [
    "---\n",
    "**Problem 10:** What is the difference in total population between the age group from 45 to 54 in 2020 and the age group from 25 to 34 in *2000* for each county? Your output should be a list of counties and differences sorted from smallest (could be negative) to largest."
   ]
  },
  {
   "cell_type": "raw",
   "metadata": {
    "number": 10,
    "section": "answer"
   },
   "source": [
    "select C.name, pop2020-pop2000 as difference\n",
    "from County C,\n",
    "    (select D.fips, sum(D.count) as pop2000\n",
    "    from Demographics D\n",
    "    where D.agelo>=25 and D.agehi<=34 and year=2000\n",
    "    group by D.fips) as P1,\n",
    "    (select D.fips, sum(D.count) as pop2020\n",
    "    from Demographics D\n",
    "    where D.agelo>=45 and D.agehi<=54 and year=2020\n",
    "    group by D.fips) as P2\n",
    "Where P1.fips=P2.fips and C.fips=P1.fips\n",
    "order by difference asc"
   ]
  },
  {
   "cell_type": "markdown",
   "metadata": {
    "case": 0,
    "key": "Bradshaw",
    "number": 11,
    "section": "problem"
   },
   "source": [
    "---\n",
    "**Problem 11:** What 10 counties have the highest percentage of residents over 65 years of age in *2020*? Provide both the county's name and percentage."
   ]
  },
  {
   "cell_type": "raw",
   "metadata": {
    "number": 11,
    "section": "answer"
   },
   "source": [
    "Select C.name, 100*sum(D.count)*1.0/pop as 'percentage'\n",
    "from County C, Demographics D, \n",
    "    (Select D2.fips, sum(D2.count) as pop\n",
    "    from Demographics D2\n",
    "    where D2.year=2020\n",
    "    group by D2.fips) as P\n",
    "    where D.agelo > 65 and P.fips=D.fips and C.fips=P.fips and D.year=2020\n",
    "group by D.fips\n",
    "order by percentage desc limit 10"
   ]
  },
  {
   "cell_type": "markdown",
   "metadata": {
    "case": 1,
    "key": "Bradshaw",
    "number": 12,
    "section": "problem"
   },
   "source": [
    "---\n",
    "**Problem 12:** What counties in North Carolina do not have a hospital? Provide each county's name, population, and non-white population percentage in *2020*."
   ]
  },
  {
   "cell_type": "raw",
   "metadata": {
    "number": 12,
    "section": "answer"
   },
   "source": [
    "Select C2.name, pop as population, 100*IFNULL(sum(D2.count)*1.0/pop,0) as percentage\n",
    "from County C2 \n",
    "LEFT JOIN Demographics D2 ON C2.fips=D2.fips and D2.year = 2020\n",
    "AND D2.race != 'white',\n",
    "(Select C.name, sum(D.count) as pop \n",
    "\t\tfrom County C, \n",
    "\t\tDemographics D,\n",
    "        (select  C.name from County C \n",
    "        EXCEPT\n",
    "        select C.name\n",
    "        from County C, Hospital H, HospitalCounty HC\n",
    "        where C.fips = HC.fips and H.hid = HC.hid and HC.incounty=1\n",
    "        Group by C.name) as P\n",
    "    where P.name = C.name \n",
    "\t\tand D.fips=C.fips \n",
    "\t\tand D.year = 2020\n",
    "    group by c.name) as P2\n",
    "ON C2.name = P2.name \n",
    "group by C2.name"
   ]
  },
  {
   "cell_type": "markdown",
   "metadata": {
    "case": 2,
    "key": "Bradshaw",
    "number": 13,
    "section": "problem"
   },
   "source": [
    "---\n",
    "**Problem 13:**  Which counties had the highest ratio of COVID-19 cases to hospital-bed capacity? Do not consider counties that do not have a hospital and hopitals that have no beds. Output the county's name, its cases-to-bed ratio, and the day it occured. "
   ]
  },
  {
   "cell_type": "raw",
   "metadata": {
    "number": 13,
    "section": "answer"
   },
   "source": [
    "Select name1, ratio, date1 from\n",
    "(Select C.name as name1, P1.date as date1, maxCase*1.0/beds as ratio from County C, \n",
    "(Select CV.fips, CV.date, max(CV.cases) as maxCase from Covid19 CV\n",
    "group by CV.fips) as P1,\n",
    "(Select HC.fips, sum(h.beds) as beds from Hospital H, HospitalCounty HC\n",
    "where HC.hid = H.hid\n",
    "group by HC.fips\n",
    ") as P2\n",
    "Where P1.fips=P2.fips and C.fips = P1.fips),\n",
    "(Select C.name as name, P1.date as date, max(maxCase*1.0/beds) as maxRatio from County C, \n",
    "(Select CV.fips, CV.date, max(CV.cases) as maxCase from Covid19 CV\n",
    "group by CV.fips) as P1,\n",
    "(Select HC.fips, sum(h.beds) as beds from Hospital H, HospitalCounty HC\n",
    "where HC.hid = H.hid\n",
    "group by HC.fips\n",
    ") as P2\n",
    "Where P1.fips=P2.fips and C.fips = P1.fips)\n",
    "Where ratio = maxRatio"
   ]
  },
  {
   "cell_type": "markdown",
   "metadata": {
    "case": 3,
    "key": "Bradshaw",
    "number": 14,
    "section": "problem"
   },
   "source": [
    "---\n",
    "**Problem 14:** Give a breakdown of COVID-19 cases, deaths, and hospitals by geographic region. For each of the geographic regions output the accumulated sum of COVID-19 cases and deaths since January 22, 2020, as well as the number of hospital beds in that region."
   ]
  },
  {
   "cell_type": "raw",
   "metadata": {
    "number": 14,
    "section": "answer"
   },
   "source": [
    "Select P2.region, P2.beds, P.cases, P.deaths\n",
    "from\n",
    "    (Select C.region, C.name, C.fips, sum(H.beds) as beds\n",
    "    from County C, Hospital H, HospitalCounty HC\n",
    "    where C.fips = HC.fips and H.hid=HC.hid and incounty=1\n",
    "    group by C.region) as P2,\n",
    "    (Select C.region, CV.fips, sum(cases) as cases, sum(deaths) as deaths from Covid19 CV, County C\n",
    "    where date > '2020-01-22' and C.fips = CV.fips\n",
    "    group by C.region) as P\n",
    "where P2.region = P.region"
   ]
  },
  {
   "cell_type": "markdown",
   "metadata": {
    "number": 15,
    "section": "problem"
   },
   "source": [
    "---\n",
    "**Problem 15:** On your own, use the web to find the number of ICU beds in one of the hospitals in the given database that is currently reported to be 0 in our database. Write a SQL UPDATE command that sets this value to the one you discovered."
   ]
  },
  {
   "cell_type": "raw",
   "metadata": {
    "case": 5,
    "key": "common",
    "number": 15,
    "section": "answer"
   },
   "source": [
    "UPDATE Hospital\n",
    "SET icu =2\n",
    "where name='Charles George VA Medical Center - Asheville NC'"
   ]
  },
  {
   "cell_type": "markdown",
   "metadata": {
    "case": 8,
    "key": "Bradshaw",
    "number": 16,
    "section": "problem"
   },
   "source": [
    "---\n",
    "**Problem 16:** Find one of the counties that has no hospital. On your own, use the web to find a nearby hospital in a bordering NC county. Write an INSERT command that inserts this hospital into the HospitalCounty table to indicate that this hospital serves a county where it is not located. "
   ]
  },
  {
   "cell_type": "raw",
   "metadata": {
    "number": 16,
    "section": "answer"
   },
   "source": [
    "INSERT INTO HospitalCounty\n",
    "VALUES (1011, 37003, 0)"
   ]
  },
  {
   "cell_type": "markdown",
   "metadata": {
    "case": 13,
    "key": "Bradshaw",
    "number": 17,
    "section": "problem"
   },
   "source": [
    "---\n",
    "**Problem 17:** New confirmed COVID-19 cases and deaths are reported daily. On your own, use the web to find the number of confirmed cases and deaths for some county not provided in the database. Write an INSERT command to add this new county and date to the COVID-19 table."
   ]
  },
  {
   "cell_type": "raw",
   "metadata": {
    "number": 17,
    "section": "answer"
   },
   "source": [
    "INSERT INTO Covid19\n",
    "VALUES (37183,'2020-09-01',231,2)"
   ]
  },
  {
   "cell_type": "markdown",
   "metadata": {
    "case": 15,
    "key": "Bradshaw",
    "number": 18,
    "section": "problem"
   },
   "source": [
    "---\n",
    "**Problem 18:** In the given database the numbers of COVID cases and deaths are not broken down according to sex. Assume that this data becomes available. Write *one or more* ALTER TABLE commands that include separate counts for confirmed cases and deaths according to sex, with the assumption that the total case counts includes both sexes as well as cases where the sex was not reported."
   ]
  },
  {
   "cell_type": "raw",
   "metadata": {
    "number": 18,
    "section": "answer"
   },
   "source": [
    "Alter table Covid19\n",
    "Add MaleCases INT;\n",
    "Alter table Covid19\n",
    "Add OtherCases INT;\n",
    "Alter table Covid19\n",
    "Add FemaleDeaths INT;\n",
    "Alter table Covid19\n",
    "Add MaleDeaths INT;\n",
    "Alter table Covid19\n",
    "Add OtherDeaths INT;"
   ]
  },
  {
   "cell_type": "markdown",
   "metadata": {
    "case": 18,
    "key": "Bradshaw",
    "number": 19,
    "section": "problem"
   },
   "source": [
    "---\n",
    "**Problem 19:** Specify a CHECK that enforces that the sex-specific case and death counts are always &le; to the total counts based on your modified table from problem 18. *(this was part of problem 18 in V1.0)*"
   ]
  },
  {
   "cell_type": "raw",
   "metadata": {
    "number": 19,
    "section": "answer"
   },
   "source": [
    "Check(FemaleCases<=cases AND MaleCases<=cases AND OtherCases<=cases AND) FemaleDeaths<=deaths AND MaleDeaths<=deaths AND OtherDeaths<=deaths "
   ]
  },
  {
   "cell_type": "markdown",
   "metadata": {
    "case": 24,
    "key": "Bradshaw",
    "number": 20,
    "section": "problem"
   },
   "source": [
    "---\n",
    "**Problem 20:** Generate a list of all hosptials such that the county where they are located appears in their name. *(this was problem 19 in V1.0)*"
   ]
  },
  {
   "cell_type": "raw",
   "metadata": {
    "number": 20,
    "section": "answer"
   },
   "source": [
    "Select H.name\n",
    "From County C, Hospital H, HospitalCounty HC\n",
    "Where C.fips = HC.fips and H.hid=HC.hid and H.name like '%'||C.name||'%'"
   ]
  },
  {
   "cell_type": "markdown",
   "metadata": {},
   "source": [
    "Click [here to submit](http://csbio.unc.edu/mcmillan/index.py?run=PS.upload) your completed problem set.\n",
    "\n",
    "You can submit it as many times as you would like, but only the last submitted version will be graded. If the last submission was after the due date the final score will be reduced accordingly. "
   ]
  }
 ],
 "metadata": {
  "kernelspec": {
   "display_name": "Python 3",
   "language": "python",
   "name": "python3"
  },
  "language_info": {
   "codemirror_mode": {
    "name": "ipython",
    "version": 3
   },
   "file_extension": ".py",
   "mimetype": "text/x-python",
   "name": "python",
   "nbconvert_exporter": "python",
   "pygments_lexer": "ipython3",
   "version": "3.8.3"
  }
 },
 "nbformat": 4,
 "nbformat_minor": 1
}
